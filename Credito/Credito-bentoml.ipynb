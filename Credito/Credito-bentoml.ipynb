{
 "cells": [
  {
   "cell_type": "code",
   "execution_count": 1,
   "metadata": {
    "collapsed": true,
    "jupyter": {
     "outputs_hidden": true
    }
   },
   "outputs": [
    {
     "output_type": "execute_result",
     "data": {
      "text/plain": [
       "'2.2.7'"
      ]
     },
     "metadata": {},
     "execution_count": 1
    }
   ],
   "source": [
    "import fastai\n",
    "fastai.__version__"
   ]
  },
  {
   "cell_type": "code",
   "execution_count": 2,
   "metadata": {},
   "outputs": [],
   "source": [
    "from io import StringIO\n",
    "import os\n",
    "import shutil\n",
    "\n",
    "import argparse\n",
    "import csv\n",
    "import json\n",
    "import joblib\n",
    "import numpy as np\n",
    "import pandas as pd\n",
    "\n",
    "from sklearn.compose import ColumnTransformer, make_column_selector\n",
    "from sklearn.impute import SimpleImputer\n",
    "from sklearn.pipeline import make_pipeline\n",
    "from sklearn.preprocessing import Binarizer, StandardScaler, OneHotEncoder\n"
   ]
  },
  {
   "cell_type": "code",
   "execution_count": 3,
   "metadata": {},
   "outputs": [],
   "source": [
    "from sklearn.linear_model import LogisticRegression"
   ]
  },
  {
   "cell_type": "code",
   "execution_count": 4,
   "metadata": {},
   "outputs": [
    {
     "output_type": "stream",
     "name": "stderr",
     "text": [
      "/home/rubens/miniconda3/lib/python3.8/site-packages/torch/cuda/__init__.py:52: UserWarning: CUDA initialization: Found no NVIDIA driver on your system. Please check that you have an NVIDIA GPU and installed a driver from http://www.nvidia.com/Download/index.aspx (Triggered internally at  /pytorch/c10/cuda/CUDAFunctions.cpp:100.)\n  return torch._C._cuda_getDeviceCount() > 0\n"
     ]
    }
   ],
   "source": [
    "from fastai.tabular.all import *\n",
    "from fastai.vision.all import *"
   ]
  },
  {
   "cell_type": "code",
   "execution_count": 5,
   "metadata": {},
   "outputs": [],
   "source": [
    "feature_columns_names = [\n",
    "       'credito_coaplicante',\n",
    "\t   'credito_fiador',\n",
    "       'financiamento_outro_lugar',\n",
    "\t   'tipo_emprego', \n",
    "\t   'conta_corrente_valor',\n",
    "       'outros_creditos_aqui',\n",
    "\t   'finance__credits__other_banks',\n",
    "       'numero_dependentes',\n",
    "\t   'investimentos_valor',\n",
    "\t   'duracao_residencia',\n",
    "       'valor_solicitado',\n",
    "\t   'tem_telefone', \n",
    "\t   'duracao_emprego',\n",
    "       'duracao_credito',\n",
    "\t   'historico_credito',\n",
    "\t   'financiamento_outros_bens',\n",
    "       'proposito_credito',\n",
    "\t   'tipo_residencia',\n",
    "\t   'receita_disponivel']\n",
    "\n",
    "\n",
    "\n",
    "\n",
    "feature_columns_dtype = {\n",
    "       'credito_coaplicante'            : \"float64\",\n",
    "\t   'credito_fiador'                 : \"float64\", \n",
    "       'financiamento_outro_lugar'      : \"float64\",\n",
    "\t   'tipo_emprego'                   : \"category\" ,\n",
    "\t   'conta_corrente_valor'           : \"category\" ,\n",
    "       'outros_creditos_aqui'           : \"float64\",\n",
    "\t   'finance__credits__other_banks'  : \"float64\",\n",
    "       'numero_dependentes'             : \"float64\",\n",
    "\t   'investimentos_valor'            : \"category\" ,\n",
    "\t   'duracao_residencia'             : \"category\" ,\n",
    "       'valor_solicitado'               : \"float64\",\n",
    "\t   'tem_telefone'                   : \"category\" ,\n",
    "\t   'duracao_emprego'                : \"float64\",\n",
    "       'duracao_credito'                : \"float64\",\n",
    "\t   'historico_credito'              : \"category\" ,\n",
    "\t   'financiamento_outros_bens'      : \"category\" ,\n",
    "       'proposito_credito'              : \"category\" ,\n",
    "\t   'tipo_residencia'                : \"category\" ,\n",
    "\t   'receita_disponivel'             : \"float64\"\n",
    "}\n",
    "\n",
    "label_column = 'deu_default'\n",
    "label_column_dtype = { 'deu_default': \"category\"} \n"
   ]
  },
  {
   "cell_type": "code",
   "execution_count": 6,
   "metadata": {},
   "outputs": [],
   "source": [
    "def merge_two_dicts(x, y):\n",
    "    z = x.copy()   # start with x's keys and values\n",
    "    z.update(y)    # modifies z with y's keys and values & returns None\n",
    "    return z"
   ]
  },
  {
   "cell_type": "code",
   "execution_count": 7,
   "metadata": {},
   "outputs": [],
   "source": [
    "file = 'credito_limpo.csv'\n",
    "input_files = ['credito_limpo.csv' ]\n",
    "model_path = 'models'"
   ]
  },
  {
   "cell_type": "code",
   "execution_count": 52,
   "metadata": {},
   "outputs": [
    {
     "output_type": "stream",
     "name": "stdout",
     "text": [
      "saved model!\n"
     ]
    }
   ],
   "source": [
    "###  label é a primeira coluna no arquivo de entrada    \n",
    "raw_data = [ pd.read_csv(\n",
    "        file, \n",
    "        header=None, \n",
    "        names= feature_columns_names + [label_column],\n",
    "        dtype=merge_two_dicts(feature_columns_dtype, label_column_dtype)) for file in  input_files ]\n",
    "concat_data = pd.concat(raw_data)\n",
    "y = concat_data[label_column]\n",
    "\n",
    "# Labels should not be preprocessed. predict_fn will reinsert the labels after featurizing.\n",
    "concat_data.drop(label_column, axis=1, inplace=True)\n",
    "\n",
    "\n",
    "category_features = ['tipo_emprego', 'conta_corrente_valor', 'investimentos_valor',                  \n",
    "                     'tem_telefone', 'historico_credito', 'financiamento_outros_bens',                        'proposito_credito',\n",
    "                     'tipo_residencia', 'tipo_residencia'\n",
    "                    ]\n",
    "\n",
    "numeric_features = [ 'credito_coaplicante' ,'credito_fiador',                                               'financiamento_outro_lugar' , 'outros_creditos_aqui',  \n",
    "                    'finance__credits__other_banks' , 'numero_dependentes' ,                                'valor_solicitado' ,               \n",
    "                    'duracao_emprego' ,  'duracao_residencia',  'duracao_credito'  ]                \n",
    "\n",
    "numeric_transformer = make_pipeline(\n",
    "        SimpleImputer(strategy='median'),   ## replace NaN value\n",
    "        StandardScaler())                   ## remove mean, and stddev =1\n",
    "\n",
    "categorical_transformer = make_pipeline(\n",
    "        SimpleImputer(strategy='constant', fill_value='missing'),    ## replace NaN                                                                          value\n",
    "        OneHotEncoder())                                      ##  nao tem OrdinalEncoder())\n",
    "\n",
    "preprocessor = ColumnTransformer(transformers=[\n",
    "             (\"num\", numeric_transformer, numeric_features),\n",
    "             (\"cat\", categorical_transformer, category_features)\n",
    "              ])\n",
    "    \n",
    "preprocessor.fit(concat_data)\n",
    "\n",
    "joblib.dump(preprocessor, os.path.join(model_path, \"model.joblib\"))\n",
    "\n",
    "print(\"saved model!\")\n",
    "    "
   ]
  },
  {
   "cell_type": "code",
   "execution_count": 53,
   "metadata": {},
   "outputs": [
    {
     "output_type": "execute_result",
     "data": {
      "text/plain": [
       "   credito_coaplicante  credito_fiador  financiamento_outro_lugar  \\\n",
       "0                  0.0             0.0                        0.0   \n",
       "1                  0.0             0.0                        0.0   \n",
       "2                  0.0             0.0                        0.0   \n",
       "3                  0.0             0.0                        0.0   \n",
       "4                  0.0             0.0                        0.0   \n",
       "\n",
       "  tipo_emprego conta_corrente_valor  outros_creditos_aqui  \\\n",
       "0     operario            sem conta                   2.0   \n",
       "1     operario                baixa                   1.0   \n",
       "2  nivel medio             negativa                   2.0   \n",
       "3     operario             negativa                   1.0   \n",
       "4  nivel medio             negativa                   1.0   \n",
       "\n",
       "   finance__credits__other_banks  numero_dependentes investimentos_valor  \\\n",
       "0                            1.0                 1.0          muito_alta   \n",
       "1                            0.0                 1.0               baixa   \n",
       "2                            0.0                 1.0                alta   \n",
       "3                            2.0                 1.0               baixa   \n",
       "4                            0.0                 1.0               baixa   \n",
       "\n",
       "  duracao_residencia  valor_solicitado tem_telefone  duracao_emprego  \\\n",
       "0                  2            1500.0          Nao              2.0   \n",
       "1                  4            1656.0          Nao              2.0   \n",
       "2                  4            2028.0          Nao             15.0   \n",
       "3                  1            2034.0          Nao             12.0   \n",
       "4                  1            2058.0          Nao              1.0   \n",
       "\n",
       "   duracao_credito historico_credito financiamento_outros_bens  \\\n",
       "0              6.0       muito pobre                    imovel   \n",
       "1              9.0               boa                    imovel   \n",
       "2              6.0       muito pobre            carro ou outro   \n",
       "3             12.0               boa            carro ou outro   \n",
       "4              6.0               boa                    imovel   \n",
       "\n",
       "  proposito_credito tipo_residencia  receita_disponivel  \n",
       "0        carro novo         proprio                 2.0  \n",
       "1        carro novo         aluguel                 4.0  \n",
       "2        eletronico         proprio                 4.0  \n",
       "3    requalificacao         proprio                 4.0  \n",
       "4   eletrodomestico         proprio                 4.0  "
      ],
      "text/html": "<div>\n<style scoped>\n    .dataframe tbody tr th:only-of-type {\n        vertical-align: middle;\n    }\n\n    .dataframe tbody tr th {\n        vertical-align: top;\n    }\n\n    .dataframe thead th {\n        text-align: right;\n    }\n</style>\n<table border=\"1\" class=\"dataframe\">\n  <thead>\n    <tr style=\"text-align: right;\">\n      <th></th>\n      <th>credito_coaplicante</th>\n      <th>credito_fiador</th>\n      <th>financiamento_outro_lugar</th>\n      <th>tipo_emprego</th>\n      <th>conta_corrente_valor</th>\n      <th>outros_creditos_aqui</th>\n      <th>finance__credits__other_banks</th>\n      <th>numero_dependentes</th>\n      <th>investimentos_valor</th>\n      <th>duracao_residencia</th>\n      <th>valor_solicitado</th>\n      <th>tem_telefone</th>\n      <th>duracao_emprego</th>\n      <th>duracao_credito</th>\n      <th>historico_credito</th>\n      <th>financiamento_outros_bens</th>\n      <th>proposito_credito</th>\n      <th>tipo_residencia</th>\n      <th>receita_disponivel</th>\n    </tr>\n  </thead>\n  <tbody>\n    <tr>\n      <th>0</th>\n      <td>0.0</td>\n      <td>0.0</td>\n      <td>0.0</td>\n      <td>operario</td>\n      <td>sem conta</td>\n      <td>2.0</td>\n      <td>1.0</td>\n      <td>1.0</td>\n      <td>muito_alta</td>\n      <td>2</td>\n      <td>1500.0</td>\n      <td>Nao</td>\n      <td>2.0</td>\n      <td>6.0</td>\n      <td>muito pobre</td>\n      <td>imovel</td>\n      <td>carro novo</td>\n      <td>proprio</td>\n      <td>2.0</td>\n    </tr>\n    <tr>\n      <th>1</th>\n      <td>0.0</td>\n      <td>0.0</td>\n      <td>0.0</td>\n      <td>operario</td>\n      <td>baixa</td>\n      <td>1.0</td>\n      <td>0.0</td>\n      <td>1.0</td>\n      <td>baixa</td>\n      <td>4</td>\n      <td>1656.0</td>\n      <td>Nao</td>\n      <td>2.0</td>\n      <td>9.0</td>\n      <td>boa</td>\n      <td>imovel</td>\n      <td>carro novo</td>\n      <td>aluguel</td>\n      <td>4.0</td>\n    </tr>\n    <tr>\n      <th>2</th>\n      <td>0.0</td>\n      <td>0.0</td>\n      <td>0.0</td>\n      <td>nivel medio</td>\n      <td>negativa</td>\n      <td>2.0</td>\n      <td>0.0</td>\n      <td>1.0</td>\n      <td>alta</td>\n      <td>4</td>\n      <td>2028.0</td>\n      <td>Nao</td>\n      <td>15.0</td>\n      <td>6.0</td>\n      <td>muito pobre</td>\n      <td>carro ou outro</td>\n      <td>eletronico</td>\n      <td>proprio</td>\n      <td>4.0</td>\n    </tr>\n    <tr>\n      <th>3</th>\n      <td>0.0</td>\n      <td>0.0</td>\n      <td>0.0</td>\n      <td>operario</td>\n      <td>negativa</td>\n      <td>1.0</td>\n      <td>2.0</td>\n      <td>1.0</td>\n      <td>baixa</td>\n      <td>1</td>\n      <td>2034.0</td>\n      <td>Nao</td>\n      <td>12.0</td>\n      <td>12.0</td>\n      <td>boa</td>\n      <td>carro ou outro</td>\n      <td>requalificacao</td>\n      <td>proprio</td>\n      <td>4.0</td>\n    </tr>\n    <tr>\n      <th>4</th>\n      <td>0.0</td>\n      <td>0.0</td>\n      <td>0.0</td>\n      <td>nivel medio</td>\n      <td>negativa</td>\n      <td>1.0</td>\n      <td>0.0</td>\n      <td>1.0</td>\n      <td>baixa</td>\n      <td>1</td>\n      <td>2058.0</td>\n      <td>Nao</td>\n      <td>1.0</td>\n      <td>6.0</td>\n      <td>boa</td>\n      <td>imovel</td>\n      <td>eletrodomestico</td>\n      <td>proprio</td>\n      <td>4.0</td>\n    </tr>\n  </tbody>\n</table>\n</div>"
     },
     "metadata": {},
     "execution_count": 53
    }
   ],
   "source": [
    "concat_data.head()"
   ]
  },
  {
   "cell_type": "code",
   "execution_count": 28,
   "metadata": {},
   "outputs": [
    {
     "output_type": "execute_result",
     "data": {
      "text/plain": [
       "array([[-0.20676767, -0.23420572, -0.20926161,  1.02707891,  1.40836493,\n",
       "        -0.42828957, -1.07086487, -0.73002164, -1.23647786,  0.        ,\n",
       "         0.        ,  0.        ,  1.        ,  0.        ,  0.        ,\n",
       "         0.        ,  1.        ,  0.        ,  0.        ,  0.        ,\n",
       "         1.        ,  0.        ,  0.        ,  1.        ,  0.        ,\n",
       "         0.        ,  1.        ,  0.        ,  0.        ,  1.        ,\n",
       "         0.        ,  0.        ,  0.        ,  1.        ,  0.        ,\n",
       "         1.        ,  0.        ,  0.        ,  0.        ,  0.        ,\n",
       "         0.        ,  0.        ,  0.        ,  0.        ,  0.        ,\n",
       "         0.        ,  0.        ,  1.        ,  0.        ,  0.        ,\n",
       "         1.        ]])"
      ]
     },
     "metadata": {},
     "execution_count": 28
    }
   ],
   "source": [
    "preprocessor.transform(concat_data.iloc[:1,:])"
   ]
  },
  {
   "cell_type": "code",
   "execution_count": 54,
   "metadata": {
    "collapsed": true,
    "jupyter": {
     "outputs_hidden": true
    }
   },
   "outputs": [
    {
     "output_type": "execute_result",
     "data": {
      "text/plain": [
       "0.779"
      ]
     },
     "metadata": {},
     "execution_count": 54
    }
   ],
   "source": [
    "# Preprocess training input\n",
    "preprocessed_train = preprocessor.transform(concat_data)\n",
    "ll = LogisticRegression()\n",
    "ll.fit(preprocessed_train, y)\n",
    "#y_pred = ll.predict(preprocessed_train)\n",
    "ll.score(preprocessed_train, y)"
   ]
  },
  {
   "cell_type": "markdown",
   "metadata": {},
   "source": [
    "# Serial Inference Pipeline with Scikit preprocessor and Linear Learner <a class=\"anchor\" id=\"serial_inference\"></a>\n"
   ]
  },
  {
   "cell_type": "markdown",
   "metadata": {},
   "source": [
    "## Set up the inference pipeline <a class=\"anchor\" id=\"pipeline_setup\"></a>\n",
    "Setting up a Machine Learning pipeline can be done with the Pipeline Model. This sets up a list of models in a single endpoint; in this example, we configure our pipeline model with the fitted Scikit-learn inference model and the fitted Linear Learner model. Deploying the model follows the same ```deploy``` pattern in the SDK."
   ]
  },
  {
   "cell_type": "code",
   "execution_count": 30,
   "metadata": {},
   "outputs": [],
   "source": [
    "from sklearn.pipeline import Pipeline\n",
    "pipe = Pipeline([('preprocessing', preprocessor), ('regression', ll)])"
   ]
  },
  {
   "cell_type": "code",
   "execution_count": 31,
   "metadata": {},
   "outputs": [
    {
     "output_type": "execute_result",
     "data": {
      "text/plain": [
       "Pipeline(steps=[('preprocessing',\n",
       "                 ColumnTransformer(transformers=[('num',\n",
       "                                                  Pipeline(steps=[('simpleimputer',\n",
       "                                                                   SimpleImputer(strategy='median')),\n",
       "                                                                  ('standardscaler',\n",
       "                                                                   StandardScaler())]),\n",
       "                                                  ['credito_coaplicante',\n",
       "                                                   'credito_fiador',\n",
       "                                                   'financiamento_outro_lugar',\n",
       "                                                   'outros_creditos_aqui',\n",
       "                                                   'finance__credits__other_banks',\n",
       "                                                   'numero_dependentes',\n",
       "                                                   'valor_solicitado',\n",
       "                                                   'duracao_e...\n",
       "                                                  Pipeline(steps=[('simpleimputer',\n",
       "                                                                   SimpleImputer(fill_value='missing',\n",
       "                                                                                 strategy='constant')),\n",
       "                                                                  ('onehotencoder',\n",
       "                                                                   OneHotEncoder())]),\n",
       "                                                  ['tipo_emprego',\n",
       "                                                   'conta_corrente_valor',\n",
       "                                                   'investimentos_valor',\n",
       "                                                   'duracao_residencia',\n",
       "                                                   'tem_telefone',\n",
       "                                                   'historico_credito',\n",
       "                                                   'financiamento_outros_bens',\n",
       "                                                   'proposito_credito',\n",
       "                                                   'tipo_residencia',\n",
       "                                                   'tipo_residencia'])])),\n",
       "                ('regression', LogisticRegression())])"
      ]
     },
     "metadata": {},
     "execution_count": 31
    }
   ],
   "source": [
    "pipe.fit(concat_data, y)"
   ]
  },
  {
   "cell_type": "code",
   "execution_count": 32,
   "metadata": {},
   "outputs": [
    {
     "output_type": "execute_result",
     "data": {
      "text/plain": [
       "0.776"
      ]
     },
     "metadata": {},
     "execution_count": 32
    }
   ],
   "source": [
    "pipe.score(concat_data,y)"
   ]
  },
  {
   "cell_type": "code",
   "execution_count": 56,
   "metadata": {},
   "outputs": [
    {
     "output_type": "stream",
     "name": "stdout",
     "text": [
      "Overwriting credito_service.py\n"
     ]
    }
   ],
   "source": [
    "%%writefile credito_service.py\n",
    "import pandas as pd\n",
    "import json\n",
    "import bentoml\n",
    "from bentoml.frameworks.sklearn import SklearnModelArtifact\n",
    "#from bentoml.service.artifacts.common import PickleArtifact\n",
    "#from bentoml.handlers import DataframeHandler\n",
    "from bentoml.adapters import DataframeInput, FileInput\n",
    "\n",
    "@bentoml.artifacts([\n",
    "                    SklearnModelArtifact(\"model_a\"),\n",
    "                    SklearnModelArtifact(\"ml\")\n",
    "                    ])\n",
    "@bentoml.env(pip_packages=[\"scikit-learn\", \"pandas\"])\n",
    "class CreditPrediction(bentoml.BentoService):\n",
    "\n",
    "    @bentoml.api(input=DataframeInput(), batch=True)\n",
    "    def predict(self, df):\n",
    "        \"\"\"\n",
    "        predict expects pandas.Series as input\n",
    "        \"\"\"  \n",
    "        # print(\"***********\")\n",
    "        # print(\"df\", df.iloc[0,:].T)\n",
    "        # print(\"***********\")\n",
    "        #print(\"colunas\", df.columns)\n",
    "        df = self.artifacts.model_a.transform(df)\n",
    "        print(df)\n",
    "        return self.artifacts.ml.predict(df)"
   ]
  },
  {
   "cell_type": "code",
   "execution_count": 57,
   "metadata": {},
   "outputs": [
    {
     "output_type": "stream",
     "name": "stdout",
     "text": [
      "[2021-03-16 09:39:36,608] WARNING - pip package requirement pandas already exist\n",
      "[2021-03-16 09:39:36,614] WARNING - pip package requirement scikit-learn already exist\n",
      "[2021-03-16 09:39:36,621] WARNING - pip package requirement scikit-learn already exist\n",
      "[2021-03-16 09:39:37,956] INFO - BentoService bundle 'CreditPrediction:20210316093936_A4D92E' saved to: /home/rubens/bentoml/repository/CreditPrediction/20210316093936_A4D92E\n"
     ]
    }
   ],
   "source": [
    "from credito_service import CreditPrediction\n",
    "\n",
    "svc = CreditPrediction()\n",
    "svc.pack('model_a', preprocessor)\n",
    "svc.pack('ml', ll)\n",
    "saved_path =svc.save()\n",
    "\n",
    "\n",
    "\n"
   ]
  },
  {
   "cell_type": "code",
   "execution_count": 58,
   "metadata": {},
   "outputs": [
    {
     "output_type": "stream",
     "name": "stdout",
     "text": [
      "[2021-03-16 09:39:43,699] INFO - Getting latest version CreditPrediction:20210316093936_A4D92E\n",
      "[2021-03-16 09:39:43,700] INFO - Starting BentoML API server in development mode..\n",
      "[2021-03-16 09:39:46,152] WARNING - pip package requirement pandas already exist\n",
      "[2021-03-16 09:39:46,158] WARNING - pip package requirement scikit-learn already exist\n",
      "[2021-03-16 09:39:46,159] WARNING - pip package requirement scikit-learn already exist\n",
      " * Serving Flask app \"CreditPrediction\" (lazy loading)\n",
      " * Environment: production\n",
      "\u001b[31m   WARNING: This is a development server. Do not use it in a production deployment.\u001b[0m\n",
      "\u001b[2m   Use a production WSGI server instead.\u001b[0m\n",
      " * Debug mode: off\n",
      " * Running on http://127.0.0.1:5000/ (Press CTRL+C to quit)\n",
      "***********\n",
      "df credito_coaplicante                      0.0\n",
      "credito_fiador                           0.0\n",
      "financiamento_outro_lugar                0.0\n",
      "tipo_emprego                     nivel medio\n",
      "conta_corrente_valor               sem conta\n",
      "outros_creditos_aqui                     2.0\n",
      "finance__credits__other_banks            1.0\n",
      "numero_dependentes                       1.0\n",
      "investimentos_valor               muito_alta\n",
      "duracao_residencia                         2\n",
      "valor_solicitado                      1500.0\n",
      "tem_telefone                             Nao\n",
      "duracao_emprego                          2.0\n",
      "duracao_credito                          6.0\n",
      "historico_credito                muito pobre\n",
      "financiamento_outros_bens             imovel\n",
      "proposito_credito                 carro novo\n",
      "tipo_residencia                      proprio\n",
      "receita_disponivel                       2.0\n",
      "Name: 0, dtype: object\n",
      "***********\n",
      "[[-0.20676767 -0.23420572 -0.20926161  1.02707891  1.40836493 -0.42828957\n",
      "  -1.07086487 -0.73002164 -0.76597727 -1.23647786  0.          0.\n",
      "   1.          0.          0.          0.          0.          1.\n",
      "   0.          0.          0.          1.          0.          1.\n",
      "   0.          0.          1.          0.          0.          0.\n",
      "   1.          0.          1.          0.          0.          0.\n",
      "   0.          0.          0.          0.          0.          0.\n",
      "   0.          0.          1.          0.          0.          1.        ]]\n",
      "[2021-03-16 09:39:52,257] INFO - {'service_name': 'CreditPrediction', 'service_version': '20210316093936_A4D92E', 'api': 'predict', 'task': {'data': '[{\"credito_coaplicante\":0.0,\"credito_fiador\":0.0,\"financiamento_outro_lugar\":0.0,\"tipo_emprego\":\"nivel medio\",\"conta_corrente_valor\":\"sem conta\",\\n\"outros_creditos_aqui\":2.0,\"finance__credits__other_banks\":1.0,\"numero_dependentes\":1.0,\"investimentos_valor\":\"muito_alta\",\"duracao_residencia\":\"2\",\\n\"valor_solicitado\":1500.0,\"tem_telefone\":\"Nao\",\"duracao_emprego\":2.0,\"duracao_credito\":6.0,\"historico_credito\":\"muito pobre\",\\n\"financiamento_outros_bens\":\"imovel\",\"proposito_credito\":\"carro novo\",\"tipo_residencia\":\"proprio\",\"receita_disponivel\":2.0}]', 'task_id': 'e58320fa-2fa7-4b95-9f49-6678a9da92df', 'batch': 1, 'http_headers': (('Host', 'localhost:5000'), ('User-Agent', 'curl/7.68.0'), ('Accept', '*/*'), ('Content-Type', 'application/json'), ('Content-Length', '545'))}, 'result': {'data': '[\"0\"]', 'http_status': 200, 'http_headers': (('Content-Type', 'application/json'),)}, 'request_id': 'e58320fa-2fa7-4b95-9f49-6678a9da92df'}\n",
      "127.0.0.1 - - [16/Mar/2021 09:39:52] \"POST /predict HTTP/1.1\" 200 -\n",
      "^C\n"
     ]
    }
   ],
   "source": [
    "!bentoml serve CreditPrediction:latest"
   ]
  },
  {
   "cell_type": "code",
   "execution_count": 9,
   "metadata": {},
   "outputs": [
    {
     "output_type": "stream",
     "name": "stdout",
     "text": [
      "Error: \u001b[31mec2 deploy failed: INTERNAL:Error executing docker command: \n",
      "The command 'docker' could not be found in this WSL 2 distro.\n",
      "We recommend to activate the WSL integration in Docker Desktop settings.\n",
      "\n",
      "See https://docs.docker.com/docker-for-windows/wsl/ for details.\n",
      "\n",
      "\u001b[0m\n"
     ]
    }
   ],
   "source": [
    "!bentoml ec2 deploy credito-bentoml -b CreditPrediction:20210316111837_2A5E06\n"
   ]
  },
  {
   "cell_type": "code",
   "execution_count": 9,
   "metadata": {},
   "outputs": [
    {
     "output_type": "stream",
     "name": "stdout",
     "text": [
      "Error: \u001b[31mdeployment delete failed: NOT_FOUND:Deployment \"credito-bentoml\" in namespace \"dev\" not found\u001b[0m\n"
     ]
    }
   ],
   "source": [
    "#!bentoml deployment delete credito-bentoml"
   ]
  },
  {
   "cell_type": "code",
   "execution_count": 11,
   "metadata": {},
   "outputs": [
    {
     "output_type": "stream",
     "name": "stdout",
     "text": [
      "\u001b[39mNAME                           NAMESPACE    PLATFORM       BENTO_SERVICE                             STATUS    AGE\nbentoml-fastai                 dev          aws-ec2        FastaiTabularModel:20210303170358_692543  running   1 week and 5 days\nbentoml-deployment             dev          aws-ec2        IrisClassifier:20210301145955_642469      running   1 week and 6 days\nmy-first-sagemaker-deployment  dev          aws-sagemaker  IrisClassifier:20210301145955_642469      error     2 weeks and 20 hours\u001b[0m\n"
     ]
    }
   ],
   "source": [
    "#!bentoml deployment list"
   ]
  },
  {
   "cell_type": "code",
   "execution_count": 12,
   "metadata": {},
   "outputs": [
    {
     "output_type": "stream",
     "name": "stdout",
     "text": [
      "\u001b[39mBENTO_SERVICE                           AGE                           APIS                                   ARTIFACTS                                                LABELS\nCreditPrediction:20210316111837_2A5E06  22 minutes and 54.34 seconds  predict<DataframeInput:DefaultOutput>  model_a<SklearnModelArtifact>, ml<SklearnModelArtifact>\nCreditPrediction:20210316093936_A4D92E  2 hours and 1 minute          predict<DataframeInput:DefaultOutput>  model_a<SklearnModelArtifact>, ml<SklearnModelArtifact>\nCreditPrediction:20210316092104_E6F16C  2 hours and 20 minutes        predict<DataframeInput:DefaultOutput>  model_a<SklearnModelArtifact>, ml<SklearnModelArtifact>\nCreditPrediction:20210316090718_F9423B  2 hours and 34 minutes        predict<DataframeInput:DefaultOutput>  model_a<SklearnModelArtifact>, ml<SklearnModelArtifact>\nCreditPrediction:20210316090359_5F4A40  2 hours and 37 minutes        predict<DataframeInput:DefaultOutput>  model_a<SklearnModelArtifact>, ml<SklearnModelArtifact>\nCreditPrediction:20210316090117_6156AB  2 hours and 40 minutes        predict<DataframeInput:DefaultOutput>  model_a<SklearnModelArtifact>, ml<SklearnModelArtifact>\nCreditPrediction:20210316090020_C005FC  2 hours and 41 minutes        predict<DataframeInput:DefaultOutput>  model_a<SklearnModelArtifact>, ml<SklearnModelArtifact>\nCreditPrediction:20210316085420_5C15ED  2 hours and 47 minutes        predict<DataframeInput:DefaultOutput>  model_a<SklearnModelArtifact>, ml<SklearnModelArtifact>\nCreditPrediction:20210316085414_2AE1BE  2 hours and 47 minutes        predict<DataframeInput:DefaultOutput>  model_a<SklearnModelArtifact>, ml<SklearnModelArtifact>\nCreditPrediction:20210316084630_F12347  2 hours and 55 minutes        predict<DataframeInput:DefaultOutput>  model_a<SklearnModelArtifact>, ml<SklearnModelArtifact>\nCreditPrediction:20210316080605_5C83EF  3 hours and 35 minutes        predict<DataframeInput:DefaultOutput>  model_a<SklearnModelArtifact>, ml<SklearnModelArtifact>\nCreditPrediction:20210316074117_B527EF  4 hours and 14.09 seconds     predict<DataframeInput:DefaultOutput>  model_a<SklearnModelArtifact>, ml<SklearnModelArtifact>\nCreditPrediction:20210316073746_794F9A  4 hours and 3 minutes         predict<DataframeInput:DefaultOutput>  model_a<SklearnModelArtifact>, ml<SklearnModelArtifact>\nCreditPrediction:20210316071020_1CCB9F  4 hours and 31 minutes        predict<DataframeInput:DefaultOutput>  model_a<SklearnModelArtifact>, ml<SklearnModelArtifact>\nCreditPrediction:20210315185640_1FF87E  16 hours and 44 minutes       predict<DataframeInput:DefaultOutput>  model_a<SklearnModelArtifact>, ml<SklearnModelArtifact>\nCreditPrediction:20210315183606_AEE80F  17 hours and 5 minutes        predict<DataframeInput:DefaultOutput>  model_a<SklearnModelArtifact>, ml<SklearnModelArtifact>\nCreditPrediction:20210315183113_682154  17 hours and 10 minutes       predict<DataframeInput:DefaultOutput>  model_a<SklearnModelArtifact>, ml<SklearnModelArtifact>\nCreditPrediction:20210315182809_516812  17 hours and 13 minutes       predict<DataframeInput:DefaultOutput>  model_a<SklearnModelArtifact>, ml<SklearnModelArtifact>\nCreditPrediction:20210315172234_B540C9  18 hours and 18 minutes       predict<DataframeInput:DefaultOutput>  model<PickleArtifact>\nCreditPrediction:20210315165828_4743BD  18 hours and 43 minutes       predict<DataframeInput:DefaultOutput>  model<PickleArtifact>\nCreditPrediction:20210315165400_4AC919  18 hours and 47 minutes       predict<DataframeInput:DefaultOutput>  model<PickleArtifact>\nCreditPrediction:20210315165245_093AC5  18 hours and 48 minutes       predict<DataframeInput:DefaultOutput>  model<PickleArtifact>\nCreditPrediction:20210315164906_3F10C7  18 hours and 52 minutes       predict<DataframeInput:DefaultOutput>  model<PickleArtifact>\nCreditPrediction:20210315164711_477C6C  18 hours and 54 minutes       predict<DataframeInput:DefaultOutput>  model<PickleArtifact>\nCreditPrediction:20210315164416_EADF4E  18 hours and 57 minutes       predict<DataframeInput:DefaultOutput>  model<PickleArtifact>\nCreditPrediction:20210315164355_957474  18 hours and 57 minutes       predict<DataframeInput:DefaultOutput>  model<PickleArtifact>\nCreditPrediction:20210315164149_BF571F  18 hours and 59 minutes       predict<DataframeInput:DefaultOutput>  model<PickleArtifact>\nCreditPrediction:20210315164126_9A372D  19 hours and 4.91 seconds     predict<DataframeInput:DefaultOutput>  model<PickleArtifact>\nCreditPrediction:20210315164027_DBB0DD  19 hours and 1 minute         predict<DataframeInput:DefaultOutput>  model<PickleArtifact>\nCreditPrediction:20210315163937_0B39C4  19 hours and 1 minute         predict<DataframeInput:DefaultOutput>  model<PickleArtifact>\nCreditPrediction:20210315163207_1703AF  19 hours and 9 minutes        predict<DataframeInput:DefaultOutput>  model<PickleArtifact>\nCreditPrediction:20210315161626_2E1D85  19 hours and 25 minutes       predict<DataframeInput:DefaultOutput>  model<PickleArtifact>\nCreditPrediction:20210315151113_2A2B9D  20 hours and 30 minutes       predict<DataframeInput:DefaultOutput>  model<PickleArtifact>\nIrisClassifier:20210315150333_84AE83    20 hours and 37 minutes       predict<DataframeInput:DefaultOutput>  model<SklearnModelArtifact>\nCreditPrediction:20210315145929_8771BB  20 hours and 42 minutes       predict<DataframeInput:DefaultOutput>  model<PickleArtifact>\nCreditPrediction:20210315144847_F58F5A  20 hours and 52 minutes       predict<DataframeInput:DefaultOutput>  model<PickleArtifact>\nCreditPrediction:20210315143255_F0C9B5  21 hours and 8 minutes        predict<DataframeInput:DefaultOutput>  model<PickleArtifact>\nCreditPrediction:20210315143138_66B184  21 hours and 9 minutes        predict<DataframeInput:DefaultOutput>  model<PickleArtifact>\nCreditPrediction:20210315135128_C6AE8D  21 hours and 50 minutes       predict<DataframeInput:DefaultOutput>  model<PickleArtifact>\nCreditPrediction:20210315135008_77C07B  21 hours and 51 minutes       predict<DataframeInput:DefaultOutput>  model<PickleArtifact>\u001b[0m\n"
     ]
    }
   ],
   "source": [
    "#!bentoml list"
   ]
  },
  {
   "cell_type": "code",
   "execution_count": null,
   "metadata": {},
   "outputs": [],
   "source": [
    "## ferramentas\n",
    "# import json\n",
    "# dic1 = pd.read_(\"input1.csv\")\n",
    "# d2 = json.load(open(\"input1.csv\"))\n",
    "# pd.DataFrame([d2])\n",
    "# concat_data.iloc[0].to_json(\"input1.csv\")"
   ]
  }
 ],
 "metadata": {
  "celltoolbar": "Tags",
  "instance_type": "ml.t3.medium",
  "kernelspec": {
   "name": "python3",
   "display_name": "Python 3",
   "language": "python"
  },
  "language_info": {
   "codemirror_mode": {
    "name": "ipython",
    "version": 3
   },
   "file_extension": ".py",
   "mimetype": "text/x-python",
   "name": "python",
   "nbconvert_exporter": "python",
   "pygments_lexer": "ipython3",
   "version": "3.8.5-final"
  }
 },
 "nbformat": 4,
 "nbformat_minor": 4
}