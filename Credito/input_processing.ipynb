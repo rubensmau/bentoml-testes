{
 "cells": [
  {
   "cell_type": "code",
   "execution_count": null,
   "metadata": {},
   "outputs": [],
   "source": [
    "# !python3 credito_featurizer.py --output-data-dir ./output_files --model-dir . --train ./input_files"
   ]
  },
  {
   "cell_type": "code",
   "execution_count": 1,
   "metadata": {},
   "outputs": [],
   "source": [
    "\n",
    "import json\n",
    "import joblib\n",
    "import numpy as np\n",
    "import pandas as pd\n",
    "import os\n",
    "\n",
    "from sklearn.compose import ColumnTransformer, make_column_selector\n",
    "from sklearn.impute import SimpleImputer\n",
    "from sklearn.preprocessing import Binarizer, StandardScaler, OneHotEncoder ,OrdinalEncoder, LabelEncoder\n",
    "from sklearn.pipeline import Pipeline,make_pipeline\n",
    "from sklearn.ensemble import RandomForestClassifier\n",
    "\n",
    "\n",
    "def merge_two_dicts(x, y):\n",
    "    z = x.copy()   # start with x's keys and values\n",
    "    z.update(y)    # modifies z with y's keys and values & returns None\n",
    "    return z"
   ]
  },
  {
   "cell_type": "code",
   "execution_count": 2,
   "metadata": {},
   "outputs": [],
   "source": [
    "feature_columns_names = [\n",
    "       'credito_coaplicante',\n",
    "\t   'credito_fiador',\n",
    "       'financiamento_outro_lugar',\n",
    "\t   'tipo_emprego', \n",
    "\t   'conta_corrente_valor',\n",
    "       'outros_creditos_aqui',\n",
    "\t   'finance__credits__other_banks',\n",
    "       'numero_dependentes',\n",
    "\t   'investimentos_valor',\n",
    "\t   'duracao_residencia',\n",
    "       'valor_solicitado',\n",
    "\t   'tem_telefone', \n",
    "\t   'duracao_emprego',\n",
    "       'duracao_credito',\n",
    "\t   'historico_credito',\n",
    "\t   'financiamento_outros_bens',\n",
    "       'proposito_credito',\n",
    "\t   'tipo_residencia',\n",
    "\t   'receita_disponivel']\n",
    "\n",
    "\n",
    "\n",
    "\n",
    "feature_columns_dtype = {\n",
    "       'credito_coaplicante'            : \"float64\",\n",
    "\t   'credito_fiador'                 : \"float64\", \n",
    "       'financiamento_outro_lugar'      : \"float64\",\n",
    "\t   'tipo_emprego'                   : \"category\" ,\n",
    "\t   'conta_corrente_valor'           : \"category\" ,\n",
    "       'outros_creditos_aqui'           : \"float64\",\n",
    "\t   'finance__credits__other_banks'  : \"float64\",\n",
    "       'numero_dependentes'             : \"float64\",\n",
    "\t   'investimentos_valor'            : \"category\" ,\n",
    "\t   'duracao_residencia'             : \"category\" ,\n",
    "       'valor_solicitado'               : \"float64\",\n",
    "\t   'tem_telefone'                   : \"category\" ,\n",
    "\t   'duracao_emprego'                : \"float64\",\n",
    "       'duracao_credito'                : \"float64\",\n",
    "\t   'historico_credito'              : \"category\" ,\n",
    "\t   'financiamento_outros_bens'      : \"category\" ,\n",
    "       'proposito_credito'              : \"category\" ,\n",
    "\t   'tipo_residencia'                : \"category\" ,\n",
    "\t   'receita_disponivel'             : \"float64\"\n",
    "}\n",
    "\n",
    "label_column = 'deu_default'\n",
    "label_column_dtype = { 'deu_default': \"category\"} \n"
   ]
  },
  {
   "cell_type": "code",
   "execution_count": 4,
   "metadata": {},
   "outputs": [],
   "source": [
    "##  arquivo de leitura, tem na primeira coluna o label \n",
    "raw_data = [ pd.read_csv(\n",
    "    file, \n",
    "    header=None, \n",
    "    names=  feature_columns_names + [label_column] ,\n",
    "    dtype=merge_two_dicts( feature_columns_dtype,label_column_dtype)) for file in ['/home/rubens/testes/input_files/credito_limpo.csv'] ]\n",
    "concat_data = pd.concat(raw_data)\n",
    "\n",
    "y= concat_data[label_column]\n",
    "\n",
    "\n",
    "# Labels should not be preprocessed. predict_fn will reinsert the labels after featurizing.\n",
    "concat_data.drop(label_column, axis=1, inplace=True)\n"
   ]
  },
  {
   "cell_type": "code",
   "execution_count": 5,
   "metadata": {},
   "outputs": [],
   "source": [
    "category_features = ['tipo_emprego', 'conta_corrente_valor', 'investimentos_valor','duracao_residencia',\n",
    "                     'tem_telefone', 'historico_credito', 'financiamento_outros_bens', 'proposito_credito',\n",
    "                     'tipo_residencia', 'tipo_residencia'\n",
    "                    ]"
   ]
  },
  {
   "cell_type": "code",
   "execution_count": 6,
   "metadata": {},
   "outputs": [],
   "source": [
    "numeric_features = [ 'credito_coaplicante' ,'credito_fiador', 'financiamento_outro_lugar' , 'outros_creditos_aqui' ,           \n",
    "                    'finance__credits__other_banks' , 'numero_dependentes' , 'valor_solicitado' ,               \n",
    "                    'duracao_emprego' ,  'duracao_credito'  ]                \n"
   ]
  },
  {
   "cell_type": "code",
   "execution_count": 8,
   "metadata": {},
   "outputs": [],
   "source": [
    "numeric_transformer = make_pipeline(\n",
    "        SimpleImputer(strategy='median'),   ## replace NaN value\n",
    "        StandardScaler())                   ## remove mean, and stddev =1\n",
    "\n",
    "categorical_transformer = make_pipeline(\n",
    "        SimpleImputer(strategy='constant', fill_value='missing'),    ## replace NaN value\n",
    "        OneHotEncoder())\n",
    "\n",
    "preprocessor = ColumnTransformer(transformers=[\n",
    "             (\"num\", numeric_transformer, numeric_features),\n",
    "             (\"cat\", categorical_transformer, category_features)\n",
    "              ])"
   ]
  },
  {
   "cell_type": "code",
   "execution_count": 9,
   "metadata": {},
   "outputs": [],
   "source": [
    "rfc_pipeline = Pipeline(steps = [\n",
    "                     ('data_preprocessing', preprocessor),\n",
    "                     ('model', RandomForestClassifier(max_depth = 10,\n",
    "                        min_samples_leaf = 3,\n",
    "                        min_samples_split = 4,\n",
    "                        n_estimators = 200))\n",
    "                ])"
   ]
  },
  {
   "cell_type": "code",
   "execution_count": 13,
   "metadata": {},
   "outputs": [
    {
     "data": {
      "text/plain": [
       "array([[-0.20676767, -0.23420572, -0.20926161,  1.02707891,  1.40836493,\n",
       "        -0.42828957, -1.07086487, -0.73002164, -1.23647786,  0.        ,\n",
       "         0.        ,  0.        ,  1.        ,  0.        ,  0.        ,\n",
       "         0.        ,  1.        ,  0.        ,  0.        ,  0.        ,\n",
       "         1.        ,  0.        ,  0.        ,  1.        ,  0.        ,\n",
       "         0.        ,  1.        ,  0.        ,  0.        ,  1.        ,\n",
       "         0.        ,  0.        ,  0.        ,  1.        ,  0.        ,\n",
       "         1.        ,  0.        ,  0.        ,  0.        ,  0.        ,\n",
       "         0.        ,  0.        ,  0.        ,  0.        ,  0.        ,\n",
       "         0.        ,  0.        ,  1.        ,  0.        ,  0.        ,\n",
       "         1.        ]])"
      ]
     },
     "execution_count": 13,
     "metadata": {},
     "output_type": "execute_result"
    }
   ],
   "source": [
    "rfc_pipeline.named_steps['data_preprocessing'].transform(df_pred)"
   ]
  },
  {
   "cell_type": "code",
   "execution_count": 10,
   "metadata": {},
   "outputs": [
    {
     "data": {
      "text/plain": [
       "Pipeline(memory=None,\n",
       "         steps=[('data_preprocessing',\n",
       "                 ColumnTransformer(n_jobs=None, remainder='drop',\n",
       "                                   sparse_threshold=0.3,\n",
       "                                   transformer_weights=None,\n",
       "                                   transformers=[('num',\n",
       "                                                  Pipeline(memory=None,\n",
       "                                                           steps=[('simpleimputer',\n",
       "                                                                   SimpleImputer(add_indicator=False,\n",
       "                                                                                 copy=True,\n",
       "                                                                                 fill_value=None,\n",
       "                                                                                 missing_values=nan,\n",
       "                                                                                 strategy='median',\n",
       "                                                                                 verbose=0)),\n",
       "                                                                  ('standardscaler',\n",
       "                                                                   StandardScaler...\n",
       "                 RandomForestClassifier(bootstrap=True, ccp_alpha=0.0,\n",
       "                                        class_weight=None, criterion='gini',\n",
       "                                        max_depth=10, max_features='auto',\n",
       "                                        max_leaf_nodes=None, max_samples=None,\n",
       "                                        min_impurity_decrease=0.0,\n",
       "                                        min_impurity_split=None,\n",
       "                                        min_samples_leaf=3, min_samples_split=4,\n",
       "                                        min_weight_fraction_leaf=0.0,\n",
       "                                        n_estimators=200, n_jobs=None,\n",
       "                                        oob_score=False, random_state=None,\n",
       "                                        verbose=0, warm_start=False))],\n",
       "         verbose=False)"
      ]
     },
     "execution_count": 10,
     "metadata": {},
     "output_type": "execute_result"
    }
   ],
   "source": [
    "# Fitting the training data to our pipeline\n",
    "rfc_pipeline.fit(concat_data, y)\n",
    "# Saving our pipeline to a binary pickle file\n",
    "# joblib.dump(rfc_pipeline, 'model/rfc_pipeline.pkl')# Loading back in our serialized model\n",
    "\n",
    "# loaded_model = joblib.load('model/rfc_pipeline.pkl')# Checking out our predicted results using the validation dataset\n",
    "\n",
    "#pipeline_preds = rfc_pipeline.predict(concat_data)\n"
   ]
  },
  {
   "cell_type": "code",
   "execution_count": 11,
   "metadata": {},
   "outputs": [
    {
     "data": {
      "text/html": [
       "<div>\n",
       "<style scoped>\n",
       "    .dataframe tbody tr th:only-of-type {\n",
       "        vertical-align: middle;\n",
       "    }\n",
       "\n",
       "    .dataframe tbody tr th {\n",
       "        vertical-align: top;\n",
       "    }\n",
       "\n",
       "    .dataframe thead th {\n",
       "        text-align: right;\n",
       "    }\n",
       "</style>\n",
       "<table border=\"1\" class=\"dataframe\">\n",
       "  <thead>\n",
       "    <tr style=\"text-align: right;\">\n",
       "      <th></th>\n",
       "      <th>credito_coaplicante</th>\n",
       "      <th>credito_fiador</th>\n",
       "      <th>financiamento_outro_lugar</th>\n",
       "      <th>tipo_emprego</th>\n",
       "      <th>conta_corrente_valor</th>\n",
       "      <th>outros_creditos_aqui</th>\n",
       "      <th>finance__credits__other_banks</th>\n",
       "      <th>numero_dependentes</th>\n",
       "      <th>investimentos_valor</th>\n",
       "      <th>duracao_residencia</th>\n",
       "      <th>valor_solicitado</th>\n",
       "      <th>tem_telefone</th>\n",
       "      <th>duracao_emprego</th>\n",
       "      <th>duracao_credito</th>\n",
       "      <th>historico_credito</th>\n",
       "      <th>financiamento_outros_bens</th>\n",
       "      <th>proposito_credito</th>\n",
       "      <th>tipo_residencia</th>\n",
       "      <th>receita_disponivel</th>\n",
       "    </tr>\n",
       "  </thead>\n",
       "  <tbody>\n",
       "    <tr>\n",
       "      <th>0</th>\n",
       "      <td>0.0</td>\n",
       "      <td>0.0</td>\n",
       "      <td>0.0</td>\n",
       "      <td>operario</td>\n",
       "      <td>sem conta</td>\n",
       "      <td>2.0</td>\n",
       "      <td>1.0</td>\n",
       "      <td>1.0</td>\n",
       "      <td>muito_alta</td>\n",
       "      <td>2</td>\n",
       "      <td>1500.0</td>\n",
       "      <td>Nao</td>\n",
       "      <td>2.0</td>\n",
       "      <td>6.0</td>\n",
       "      <td>muito pobre</td>\n",
       "      <td>imovel</td>\n",
       "      <td>carro novo</td>\n",
       "      <td>proprio</td>\n",
       "      <td>2.0</td>\n",
       "    </tr>\n",
       "  </tbody>\n",
       "</table>\n",
       "</div>"
      ],
      "text/plain": [
       "   credito_coaplicante  credito_fiador  financiamento_outro_lugar  \\\n",
       "0                  0.0             0.0                        0.0   \n",
       "\n",
       "  tipo_emprego conta_corrente_valor  outros_creditos_aqui  \\\n",
       "0     operario            sem conta                   2.0   \n",
       "\n",
       "   finance__credits__other_banks  numero_dependentes investimentos_valor  \\\n",
       "0                            1.0                 1.0          muito_alta   \n",
       "\n",
       "  duracao_residencia  valor_solicitado tem_telefone  duracao_emprego  \\\n",
       "0                  2            1500.0          Nao              2.0   \n",
       "\n",
       "   duracao_credito historico_credito financiamento_outros_bens  \\\n",
       "0              6.0       muito pobre                    imovel   \n",
       "\n",
       "  proposito_credito tipo_residencia  receita_disponivel  \n",
       "0        carro novo         proprio                 2.0  "
      ]
     },
     "execution_count": 11,
     "metadata": {},
     "output_type": "execute_result"
    }
   ],
   "source": [
    "\n",
    "pipeline_preds = rfc_pipeline.predict(concat_data)\n",
    "concat_data.head(1)"
   ]
  },
  {
   "cell_type": "code",
   "execution_count": 12,
   "metadata": {},
   "outputs": [
    {
     "data": {
      "text/plain": [
       "array(['0'], dtype=object)"
      ]
     },
     "execution_count": 12,
     "metadata": {},
     "output_type": "execute_result"
    }
   ],
   "source": [
    "entrada = [0,0,0,'operario','sem conta',2,1,1,'muito_alta',2,1500,'Nao',2,6,'muito pobre','imovel','carro novo','proprio',2]\n",
    "df_pred = pd.DataFrame(np.array(entrada).reshape(-1,len(entrada)))\n",
    "df_pred.columns = feature_columns_names\n",
    "rfc_pipeline.predict(df_pred)"
   ]
  },
  {
   "cell_type": "code",
   "execution_count": null,
   "metadata": {},
   "outputs": [],
   "source": [
    "from sklearn.pipeline import Pipeline\n",
    "pipeline = Pipeline(steps=[('t', preprocessor)])"
   ]
  }
 ],
 "metadata": {
  "kernelspec": {
   "display_name": "Python 3",
   "language": "python",
   "name": "python3"
  },
  "language_info": {
   "codemirror_mode": {
    "name": "ipython",
    "version": 3
   },
   "file_extension": ".py",
   "mimetype": "text/x-python",
   "name": "python",
   "nbconvert_exporter": "python",
   "pygments_lexer": "ipython3",
   "version": "3.7.6"
  }
 },
 "nbformat": 4,
 "nbformat_minor": 4
}
